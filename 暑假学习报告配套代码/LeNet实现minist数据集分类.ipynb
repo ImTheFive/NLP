{
 "cells": [
  {
   "cell_type": "code",
   "execution_count": 1,
   "metadata": {},
   "outputs": [
    {
     "name": "stdout",
     "output_type": "stream",
     "text": [
      "WARNING:tensorflow:From <ipython-input-1-b96fcdc66b31>:7: read_data_sets (from tensorflow.contrib.learn.python.learn.datasets.mnist) is deprecated and will be removed in a future version.\n",
      "Instructions for updating:\n",
      "Please use alternatives such as official/mnist/dataset.py from tensorflow/models.\n",
      "WARNING:tensorflow:From C:\\Users\\67418\\Anaconda3\\envs\\tensorflow\\lib\\site-packages\\tensorflow\\contrib\\learn\\python\\learn\\datasets\\mnist.py:260: maybe_download (from tensorflow.contrib.learn.python.learn.datasets.base) is deprecated and will be removed in a future version.\n",
      "Instructions for updating:\n",
      "Please write your own downloading logic.\n",
      "WARNING:tensorflow:From C:\\Users\\67418\\Anaconda3\\envs\\tensorflow\\lib\\site-packages\\tensorflow\\contrib\\learn\\python\\learn\\datasets\\mnist.py:262: extract_images (from tensorflow.contrib.learn.python.learn.datasets.mnist) is deprecated and will be removed in a future version.\n",
      "Instructions for updating:\n",
      "Please use tf.data to implement this functionality.\n",
      "Extracting MNIST_data/train-images-idx3-ubyte.gz\n",
      "WARNING:tensorflow:From C:\\Users\\67418\\Anaconda3\\envs\\tensorflow\\lib\\site-packages\\tensorflow\\contrib\\learn\\python\\learn\\datasets\\mnist.py:267: extract_labels (from tensorflow.contrib.learn.python.learn.datasets.mnist) is deprecated and will be removed in a future version.\n",
      "Instructions for updating:\n",
      "Please use tf.data to implement this functionality.\n",
      "Extracting MNIST_data/train-labels-idx1-ubyte.gz\n",
      "WARNING:tensorflow:From C:\\Users\\67418\\Anaconda3\\envs\\tensorflow\\lib\\site-packages\\tensorflow\\contrib\\learn\\python\\learn\\datasets\\mnist.py:110: dense_to_one_hot (from tensorflow.contrib.learn.python.learn.datasets.mnist) is deprecated and will be removed in a future version.\n",
      "Instructions for updating:\n",
      "Please use tf.one_hot on tensors.\n",
      "Extracting MNIST_data/t10k-images-idx3-ubyte.gz\n",
      "Extracting MNIST_data/t10k-labels-idx1-ubyte.gz\n",
      "WARNING:tensorflow:From C:\\Users\\67418\\Anaconda3\\envs\\tensorflow\\lib\\site-packages\\tensorflow\\contrib\\learn\\python\\learn\\datasets\\mnist.py:290: DataSet.__init__ (from tensorflow.contrib.learn.python.learn.datasets.mnist) is deprecated and will be removed in a future version.\n",
      "Instructions for updating:\n",
      "Please use alternatives such as official/mnist/dataset.py from tensorflow/models.\n"
     ]
    }
   ],
   "source": [
    "# 导入工具包\n",
    "import tensorflow as tf\n",
    "import warnings\n",
    "from tensorflow.examples.tutorials.mnist import input_data\n",
    "\n",
    "# 读入数据\n",
    "mnist = input_data.read_data_sets(\"MNIST_data/\", one_hot=True)\n",
    "warnings.filterwarnings(\"ignore\")"
   ]
  },
  {
   "cell_type": "code",
   "execution_count": 2,
   "metadata": {},
   "outputs": [],
   "source": [
    "def weight_variable(shape):\n",
    "    initial = tf.truncated_normal(shape, stddev=0.1)\n",
    "    return tf.Variable(initial)\n",
    "\n",
    "\n",
    "def bias_variable(shape):\n",
    "    initial = tf.constant(0.1, shape=shape)\n",
    "    return tf.Variable(initial)\n",
    "\n",
    "\n",
    "def conv2d(x, W):\n",
    "    return tf.nn.conv2d(x, W, strides=[1, 1, 1, 1], padding='SAME')\n",
    "\n",
    "\n",
    "def max_pool_2x2(x):\n",
    "    return tf.nn.max_pool(x, ksize=[1, 2, 2, 1],\n",
    "                          strides=[1, 2, 2, 1], padding='SAME')"
   ]
  },
  {
   "cell_type": "code",
   "execution_count": 3,
   "metadata": {},
   "outputs": [],
   "source": [
    "# x为训练图像的占位符、y_为训练图像标签的占位符\n",
    "x = tf.placeholder(tf.float32, [None, 784])\n",
    "y_ = tf.placeholder(tf.float32, [None, 10])\n",
    "\n",
    "# 将单张图片从784维向量重新还原为28x28的矩阵图片\n",
    "x_image = tf.reshape(x, [-1, 28, 28, 1])\n",
    "\n",
    "\n",
    "#定义第一层卷积层信道为32\n",
    "out_channl1 = 32\n",
    "# 第一层卷积层\n",
    "W_conv1 = weight_variable([5, 5, 1, out_channl1])\n",
    "b_conv1 = bias_variable([out_channl1])\n",
    "h_conv1 = tf.nn.relu(conv2d(x_image, W_conv1) + b_conv1)\n",
    "h_pool1 = max_pool_2x2(h_conv1)\n",
    "\n",
    "\n",
    "#定义第二层卷积层信道为64\n",
    "out_channl2 = 64\n",
    "# 第二层卷积层\n",
    "W_conv2 = weight_variable([5, 5, out_channl1, out_channl2])\n",
    "b_conv2 = bias_variable([out_channl2])\n",
    "h_conv2 = tf.nn.relu(conv2d(h_pool1, W_conv2) + b_conv2)\n",
    "h_pool2 = max_pool_2x2(h_conv2)"
   ]
  },
  {
   "cell_type": "code",
   "execution_count": 4,
   "metadata": {},
   "outputs": [],
   "source": [
    "#定义全连接层函数\n",
    "\n",
    "def fcn_layer(inputs,           # 输入数据\n",
    "               input_dim,        # 输入神经元数量\n",
    "               output_dim,       # 输出神经元数量\n",
    "               activation=None):  # 激活函数\n",
    "    # 以截断正态分布的随机数初始化W\n",
    "    W = tf.Variable(tf.truncated_normal([input_dim, output_dim], stddev=0.1))\n",
    "\n",
    "    # 以0初始化b\n",
    "    b = tf.Variable(tf.constant(0.1, shape=[output_dim]))\n",
    "    \n",
    "    # 前置计算\n",
    "    XWb = tf.matmul(inputs, W) + b\n",
    "    \n",
    "    if activation is None:\n",
    "        outputs = XWb\n",
    "    else:\n",
    "        outputs = activation(XWb)\n",
    "    \n",
    "    return outputs"
   ]
  },
  {
   "cell_type": "code",
   "execution_count": 5,
   "metadata": {},
   "outputs": [],
   "source": [
    "# 全连接层，输出为120维的向量\n",
    "out_num = 1024\n",
    "input_num = int(h_pool2.shape[1]*h_pool2.shape[2]*h_pool2.shape[3])\n",
    "\n",
    "h_pool2_flat = tf.reshape(h_pool2, [-1, input_num])\n",
    "h_fc1 = fcn_layer(h_pool2_flat, input_num, out_num, tf.nn.relu)\n",
    "\n",
    "# 使用Dropout，keep_prob是一个占位符，训练时为0.5，测试时为1\n",
    "keep_prob = tf.placeholder(tf.float32)\n",
    "h_fc1_drop = tf.nn.dropout(h_fc1, keep_prob)\n",
    "\n",
    "# 前置计算\n",
    "forword = fcn_layer(h_fc1_drop, out_num, 10, None)"
   ]
  },
  {
   "cell_type": "code",
   "execution_count": 6,
   "metadata": {},
   "outputs": [],
   "source": [
    "#设置训练参数\n",
    "train_epochs = 100 #训练轮数\n",
    "batch_size = 550 #单次训练样本数（批次大小）\n",
    "total_batch = int(mnist.train.num_examples/batch_size) # 一轮训练有多少批次\n",
    "display_step = 2 #显示粒度\n",
    "learning_rate = 1e-4 #学习率\n",
    "\n",
    "pred = tf.nn.softmax(forword)\n",
    "\n",
    "#定义交叉熵损失函数\n",
    "loss_function = tf.reduce_mean(\n",
    "            tf.nn.softmax_cross_entropy_with_logits_v2(logits=forword,labels=y_))\n",
    "\n",
    "#梯度下降优化器\n",
    "optimizer  = tf.train.AdamOptimizer(learning_rate).minimize(loss_function)\n",
    "\n",
    "#检查预测类别\n",
    "correct_prediction = tf.equal(tf.argmax(pred, 1),tf.argmax(y_, 1))\n",
    "\n",
    "#准确率，讲布尔值转化为浮点数，计算平均值\n",
    "accuracy = tf.reduce_mean(tf.cast(correct_prediction, tf.float32))\n",
    "\n",
    "sess = tf.Session() #声明会话\n",
    "init = tf.global_variables_initializer() #初始化变量\n",
    "sess.run(init)\n"
   ]
  },
  {
   "cell_type": "code",
   "execution_count": 7,
   "metadata": {},
   "outputs": [
    {
     "name": "stdout",
     "output_type": "stream",
     "text": [
      "Train Epoch: 2 loss= 0.18472402  Accuracy= 0.9477\n",
      "Train Epoch: 4 loss= 0.11866749  Accuracy= 0.9664\n",
      "Train Epoch: 6 loss= 0.090273485  Accuracy= 0.9731\n",
      "Train Epoch: 8 loss= 0.07105127  Accuracy= 0.9779\n",
      "Train Epoch: 10 loss= 0.06324996  Accuracy= 0.9794\n",
      "Train Epoch: 12 loss= 0.05504989  Accuracy= 0.9819\n",
      "Train Epoch: 14 loss= 0.049660265  Accuracy= 0.9832\n",
      "Train Epoch: 16 loss= 0.044511862  Accuracy= 0.9855\n",
      "Train Epoch: 18 loss= 0.04107039  Accuracy= 0.9861\n",
      "Train Epoch: 20 loss= 0.038294934  Accuracy= 0.9874\n",
      "Train Epoch: 22 loss= 0.037633542  Accuracy= 0.9878\n",
      "Train Epoch: 24 loss= 0.03547846  Accuracy= 0.9886\n",
      "Train Epoch: 26 loss= 0.03484436  Accuracy= 0.9883\n",
      "Train Epoch: 28 loss= 0.032332353  Accuracy= 0.989\n",
      "Train Epoch: 30 loss= 0.030623084  Accuracy= 0.9893\n",
      "Train Epoch: 32 loss= 0.030709991  Accuracy= 0.9894\n",
      "Train Epoch: 34 loss= 0.02951186  Accuracy= 0.9905\n",
      "Train Epoch: 36 loss= 0.030678894  Accuracy= 0.9906\n",
      "Train Epoch: 38 loss= 0.029725788  Accuracy= 0.9903\n",
      "Train Epoch: 40 loss= 0.029175011  Accuracy= 0.9903\n",
      "Train Epoch: 42 loss= 0.027042992  Accuracy= 0.9906\n",
      "Train Epoch: 44 loss= 0.027507221  Accuracy= 0.9902\n",
      "Train Epoch: 46 loss= 0.027040781  Accuracy= 0.9907\n",
      "Train Epoch: 48 loss= 0.028656231  Accuracy= 0.9909\n",
      "Train Epoch: 50 loss= 0.028164387  Accuracy= 0.9909\n",
      "Train Epoch: 52 loss= 0.027316315  Accuracy= 0.9913\n",
      "Train Epoch: 54 loss= 0.026248047  Accuracy= 0.9915\n",
      "Train Epoch: 56 loss= 0.027022695  Accuracy= 0.9915\n",
      "Train Epoch: 58 loss= 0.029296936  Accuracy= 0.9905\n",
      "Train Epoch: 60 loss= 0.026718594  Accuracy= 0.9911\n",
      "Train Epoch: 62 loss= 0.027942078  Accuracy= 0.9917\n",
      "Train Epoch: 64 loss= 0.026233664  Accuracy= 0.9919\n",
      "Train Epoch: 66 loss= 0.02634514  Accuracy= 0.991\n",
      "Train Epoch: 68 loss= 0.027280187  Accuracy= 0.9914\n",
      "Train Epoch: 70 loss= 0.02787396  Accuracy= 0.9915\n",
      "Train Epoch: 72 loss= 0.028013062  Accuracy= 0.9917\n",
      "Train Epoch: 74 loss= 0.029628461  Accuracy= 0.9914\n",
      "Train Epoch: 76 loss= 0.027111651  Accuracy= 0.9915\n",
      "Train Epoch: 78 loss= 0.028170502  Accuracy= 0.991\n",
      "Train Epoch: 80 loss= 0.02623908  Accuracy= 0.9922\n",
      "Train Epoch: 82 loss= 0.02788319  Accuracy= 0.9915\n",
      "Train Epoch: 84 loss= 0.02607727  Accuracy= 0.992\n",
      "Train Epoch: 86 loss= 0.02730264  Accuracy= 0.992\n",
      "Train Epoch: 88 loss= 0.028545752  Accuracy= 0.9924\n",
      "Train Epoch: 90 loss= 0.02875647  Accuracy= 0.9921\n",
      "Train Epoch: 92 loss= 0.025795652  Accuracy= 0.9923\n",
      "Train Epoch: 94 loss= 0.026535632  Accuracy= 0.9922\n",
      "Train Epoch: 96 loss= 0.027468234  Accuracy= 0.9917\n",
      "Train Epoch: 98 loss= 0.026314188  Accuracy= 0.9918\n",
      "Train Epoch: 100 loss= 0.027767718  Accuracy= 0.9922\n",
      "Train Finished!\n"
     ]
    }
   ],
   "source": [
    "# 开始训练\n",
    "for epoch in range(train_epochs):\n",
    "    for batch in range(total_batch):\n",
    "        xs, ys = mnist.train.next_batch(batch_size)#读取批次数据\n",
    "        sess.run(optimizer, feed_dict={x:xs,y_:ys,keep_prob:0.5}) #执行批次训练\n",
    "    #total_batch个批次训练完成后，使用验证数据计算误差与准确率；验证集没有分批\n",
    "\n",
    "    #打印训练过程中的详细信息\n",
    "    if (epoch+1) % display_step == 0:\n",
    "        loss,acc = sess.run([loss_function,accuracy],\n",
    "                       feed_dict={x:mnist.test.images, y_:mnist.test.labels, keep_prob:1})\n",
    "        print(\"Train Epoch:\", epoch+1, \"loss=\", loss,\" Accuracy=\",acc)\n",
    "        \n",
    "print(\"Train Finished!\")"
   ]
  },
  {
   "cell_type": "code",
   "execution_count": 8,
   "metadata": {},
   "outputs": [
    {
     "name": "stdout",
     "output_type": "stream",
     "text": [
      "test accuracy 0.992200\n"
     ]
    }
   ],
   "source": [
    "print(\"test accuracy %f\" % sess.run(accuracy,feed_dict={\n",
    "        x: mnist.test.images, y_: mnist.test.labels, keep_prob: 1.0}))"
   ]
  },
  {
   "cell_type": "code",
   "execution_count": 9,
   "metadata": {},
   "outputs": [
    {
     "name": "stdout",
     "output_type": "stream",
     "text": [
      "validation accuracy 0.991800\n"
     ]
    }
   ],
   "source": [
    "print(\"validation accuracy %f\" % sess.run(accuracy,feed_dict={\n",
    "        x: mnist.validation.images, y_: mnist.validation.labels, keep_prob: 1.0}))"
   ]
  },
  {
   "cell_type": "code",
   "execution_count": null,
   "metadata": {},
   "outputs": [],
   "source": []
  }
 ],
 "metadata": {
  "kernelspec": {
   "display_name": "tensorflow",
   "language": "python",
   "name": "tensorflow"
  },
  "language_info": {
   "codemirror_mode": {
    "name": "ipython",
    "version": 3
   },
   "file_extension": ".py",
   "mimetype": "text/x-python",
   "name": "python",
   "nbconvert_exporter": "python",
   "pygments_lexer": "ipython3",
   "version": "3.6.10"
  }
 },
 "nbformat": 4,
 "nbformat_minor": 2
}
