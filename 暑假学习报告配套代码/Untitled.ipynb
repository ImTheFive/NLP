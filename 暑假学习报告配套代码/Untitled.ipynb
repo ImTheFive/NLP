{
 "cells": [
  {
   "cell_type": "code",
   "execution_count": 1,
   "metadata": {},
   "outputs": [],
   "source": [
    "# 导入波士顿房价数据\n",
    "from sklearn.datasets import load_boston\n",
    "# 导入线性模型工具包\n",
    "from sklearn import linear_model\n",
    "# 分离训练集和测试集的工具包\n",
    "from sklearn.model_selection import train_test_split\n",
    "\n",
    "from sklearn.decomposition import PCA"
   ]
  },
  {
   "cell_type": "code",
   "execution_count": 2,
   "metadata": {},
   "outputs": [],
   "source": [
    "# 下载波士顿房屋数据\n",
    "Data = load_boston()\n",
    "# 获取数据标签(房价)\n",
    "y = Data.target\n",
    "# 获取数据特征\n",
    "X = Data.data"
   ]
  },
  {
   "cell_type": "code",
   "execution_count": 3,
   "metadata": {},
   "outputs": [
    {
     "name": "stdout",
     "output_type": "stream",
     "text": [
      "[0.80582318 0.16305197 0.02134861]\n",
      "[3949.60823205 1776.63071036  642.86374839]\n"
     ]
    }
   ],
   "source": [
    "pca = PCA(n_components=3)\n",
    "X = pca.fit_transform(X)\n",
    "\n",
    "print(pca.explained_variance_ratio_)\n",
    "\n",
    "print(pca.singular_values_)"
   ]
  },
  {
   "cell_type": "code",
   "execution_count": 4,
   "metadata": {},
   "outputs": [
    {
     "data": {
      "text/plain": [
       "LinearRegression()"
      ]
     },
     "execution_count": 4,
     "metadata": {},
     "output_type": "execute_result"
    }
   ],
   "source": [
    "# 划分训练数据和测试数据\n",
    "X_train, X_test, y_train, y_test = train_test_split(\n",
    "                                   X, y, test_size=0.1, random_state=22)\n",
    "# 训练模型\n",
    "reg = linear_model.LinearRegression()\n",
    "reg.fit(X,y)"
   ]
  },
  {
   "cell_type": "code",
   "execution_count": 5,
   "metadata": {},
   "outputs": [
    {
     "data": {
      "text/plain": [
       "array([-0.02548309, -0.00875964,  0.06811357])"
      ]
     },
     "execution_count": 5,
     "metadata": {},
     "output_type": "execute_result"
    }
   ],
   "source": [
    "# 查看权重W\n",
    "reg.coef_"
   ]
  },
  {
   "cell_type": "code",
   "execution_count": 6,
   "metadata": {},
   "outputs": [
    {
     "data": {
      "text/plain": [
       "22.532806324110663"
      ]
     },
     "execution_count": 6,
     "metadata": {},
     "output_type": "execute_result"
    }
   ],
   "source": [
    "# 查看偏置项b\n",
    "reg.intercept_"
   ]
  },
  {
   "cell_type": "code",
   "execution_count": 7,
   "metadata": {},
   "outputs": [
    {
     "name": "stdout",
     "output_type": "stream",
     "text": [
      "训练集得分:  0.28\n",
      "测试集得分:  0.32\n"
     ]
    }
   ],
   "source": [
    "# 查看模型得分\n",
    "print(\"训练集得分:  %.2f\" % reg.score(X_train,y_train))\n",
    "print(\"测试集得分:  %.2f\" % reg.score(X_test,y_test))"
   ]
  },
  {
   "cell_type": "code",
   "execution_count": 8,
   "metadata": {},
   "outputs": [
    {
     "data": {
      "text/plain": [
       "0.2877035731165076"
      ]
     },
     "execution_count": 8,
     "metadata": {},
     "output_type": "execute_result"
    }
   ],
   "source": [
    "reg.score(X,y)"
   ]
  },
  {
   "cell_type": "code",
   "execution_count": 10,
   "metadata": {},
   "outputs": [
    {
     "name": "stdout",
     "output_type": "stream",
     "text": [
      "elaspe:0.001610;train_score:0.723941;cv_score:0.795262\n",
      "elaspe:0.005398\n",
      "elaspe:0.005593;train_score:0.930547;cv_score:0.860049\n"
     ]
    }
   ],
   "source": [
    "from sklearn.datasets import load_boston\n",
    "#样本数据\n",
    "boston=load_boston()\n",
    "x=boston.data\n",
    "y=boston.target\n",
    "#样本个数及特征数\n",
    "#print(x.shape)\n",
    "#特征标签名字\n",
    "#print(boston.feature_names)\n",
    "#把数据分为训练数据集和测试数据集\n",
    "from sklearn.model_selection import train_test_split\n",
    "x_train,x_test,y_train,y_test=train_test_split(x,y,test_size=0.2,random_state=3)\n",
    "import time\n",
    "from sklearn.linear_model import LinearRegression\n",
    "model=LinearRegression()\n",
    "start=time.clock()\n",
    "model.fit(x_train,y_train)\n",
    "train_score=model.score(x_train,y_train)\n",
    "cv_score=model.score(x_test,y_test)\n",
    "print('elaspe:{0:.6f};train_score:{1:0.6f};cv_score:{2:.6}'.format(time.clock()-start,train_score,cv_score))\n",
    "from sklearn.preprocessing import PolynomialFeatures\n",
    "from sklearn.pipeline import Pipeline\n",
    "def polynomial_model(degree=1):\n",
    "    polynomial_features=PolynomialFeatures(degree=degree,include_bias=False)\n",
    "    linear_regression=LinearRegression(normalize=True)\n",
    "    pipeline=Pipeline([(\"polynomial_features\",polynomial_features),(\"linear_regression\",linear_regression)])\n",
    "    return pipeline\n",
    "model=polynomial_model(degree=2)\n",
    "start=time.clock()\n",
    "model.fit(x_train,y_train)\n",
    "train_score=model.score(x_train,y_train)\n",
    "cv_score=model.score(x_test,y_test)\n",
    "#print('elaspe:{0:.6f};train_score:{1:0.6f};cv_score:{2:.6}'.format(time.clock()-start,train_score,cv_score))\n",
    "#画出特征学习曲线\n",
    "from sklearn.model_selection import learning_curve\n",
    "from sklearn.model_selection import ShuffleSplit\n",
    "import numpy as np\n",
    "import matplotlib.pyplot as plt\n",
    "def plot_learning_curve(plt,estimator,title,X,y,ylim=None,cv=None):\n",
    "    cv = ShuffleSplit(n_splits=10,test_size=0.2,random_state=0)\n",
    "    plt.figure(figsize=(16,4),dpi=144)\n",
    "    title='Learning Curves(degree={0})'\n",
    "    degrees=[1,2,3]\n",
    "    start=time.clock(0)\n",
    "    plt.figure(figsize=(16,4),dpi=144)\n",
    "    for i in range(len(degrees)):\n",
    "        plt.subplot(1,3,i+1)\n",
    "        plot_learning_curve(plt,polynomial_model(degrees[i]),\n",
    "                            title.format(degrees[i]),x,y,ylim=(0.01,1.01),cv=cv)\n",
    "print('elaspe:{0:.6f}'.format(time.clock()-start))\n",
    "print('elaspe:{0:.6f};train_score:{1:0.6f};cv_score:{2:.6}'.format(time.clock()-start,train_score,cv_score))"
   ]
  },
  {
   "cell_type": "code",
   "execution_count": null,
   "metadata": {},
   "outputs": [],
   "source": []
  }
 ],
 "metadata": {
  "kernelspec": {
   "display_name": "tensorflow",
   "language": "python",
   "name": "tensorflow"
  },
  "language_info": {
   "codemirror_mode": {
    "name": "ipython",
    "version": 3
   },
   "file_extension": ".py",
   "mimetype": "text/x-python",
   "name": "python",
   "nbconvert_exporter": "python",
   "pygments_lexer": "ipython3",
   "version": "3.6.10"
  }
 },
 "nbformat": 4,
 "nbformat_minor": 2
}
