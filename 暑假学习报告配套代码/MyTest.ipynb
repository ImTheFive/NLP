{
 "cells": [
  {
   "cell_type": "code",
   "execution_count": 43,
   "metadata": {},
   "outputs": [
    {
     "name": "stderr",
     "output_type": "stream",
     "text": [
      "C:\\Users\\67418\\Anaconda3\\envs\\tensorflow\\lib\\site-packages\\sklearn\\manifold\\_mds.py:419: UserWarning: The MDS API has changed. ``fit`` now constructs an dissimilarity matrix from data. To use a custom dissimilarity matrix, set ``dissimilarity='precomputed'``.\n",
      "  warnings.warn(\"The MDS API has changed. ``fit`` now constructs an\"\n"
     ]
    },
    {
     "data": {
      "text/plain": [
       "array([[-13.91504909, -14.11147992],\n",
       "       [-14.00633452,  -8.7850629 ],\n",
       "       [ 27.9213836 ,  22.89654283]])"
      ]
     },
     "execution_count": 43,
     "metadata": {},
     "output_type": "execute_result"
    }
   ],
   "source": [
    "import numpy as np\n",
    "from sklearn.manifold import MDS\n",
    "\n",
    "embedding = MDS(n_components=2,metric=True)\n",
    "X_transformed = embedding.fit_transform(np.array([\n",
    "    [1, 2, 3],\n",
    "    [4, 5, 6],\n",
    "    [56, 10, 10]]))\n",
    "X_transformed"
   ]
  },
  {
   "cell_type": "code",
   "execution_count": 61,
   "metadata": {},
   "outputs": [],
   "source": [
    "import numpy as np\n",
    "from scipy.spatial.distance import cdist\n",
    "from sklearn.manifold import MDS\n",
    "\n",
    "class MyMDS:\n",
    "\n",
    "    def __init__(self):\n",
    "        pass\n",
    "    def _cal_dist(self, matrix, row, col):\n",
    "        if row == '*' and col == '*':\n",
    "            return np.sum(matrix ** 2)\n",
    "        elif row == '*' and col != '*':\n",
    "            return np.sum(matrix[:, col] ** 2)\n",
    "        elif row != '*' and col == '*':\n",
    "            return np.sum(matrix[row, :] ** 2)\n",
    "        else:\n",
    "            return matrix[row, col] ** 2\n",
    "\n",
    "    def fit(self, dataset, K):\n",
    "        length = dataset.shape[0]\n",
    "        # 计算原始空间的距离矩阵\n",
    "        original_matrix = cdist(dataset, dataset, 'euclidean')\n",
    "        \n",
    "        # 计算 dist_i.、dist_.j 以及 dist_..\n",
    "        dist_matrix = np.matrix(np.zeros(original_matrix.shape))\n",
    "        rows, cols = dist_matrix.shape\n",
    "        # 获得矩阵 B\n",
    "        for row in range(rows):\n",
    "            for col in range(cols):\n",
    "                distij = self._cal_dist(original_matrix, row, col)\n",
    "                dist_i = self._cal_dist(original_matrix, row, '*') / length\n",
    "                dist_j = self._cal_dist(original_matrix, '*', col) / length\n",
    "                dist_all = self._cal_dist(original_matrix, '*', '*') / (length ** 2)\n",
    "                dist_matrix[row, col] = -(distij - dist_i - dist_j + dist_all) / 2\n",
    "        \n",
    "        # 计算特征值和特征向量\n",
    "        feature_values, feature_vectors = np.linalg.eig(dist_matrix)\n",
    "        \n",
    "        #将特征值特征向量由大到小排序 \n",
    "        orted_indices = np.argsort(feature_values)[::-1]\n",
    "        feature_values = feature_values[orted_indices]\n",
    "        feature_vectors = (feature_vectors.T[orted_indices]).T\n",
    "        \n",
    "        # 选取前K个特征值组成diag\n",
    "        my_a = np.diag(feature_values[0:K]**0.5)\n",
    "        # 选取前K个特征向量\n",
    "        my_b = feature_vectors[:,0:K]\n",
    "        return  np.matmul(my_b,my_a)"
   ]
  },
  {
   "cell_type": "code",
   "execution_count": 74,
   "metadata": {},
   "outputs": [],
   "source": [
    "def myView(mat,K):\n",
    "    print(cdist(mat, mat,'euclidean'))\n",
    "    embedding = MDS(n_components=K,metric=True)\n",
    "    skmat = embedding.fit_transform(mat)\n",
    "    print(cdist(skmat, skmat,'euclidean'))\n",
    "    mds = MyMDS()\n",
    "    mymat = mds.fit(mat,K)\n",
    "    print(cdist(mymat, mymat,'euclidean'))\n",
    "    print(mymat)"
   ]
  },
  {
   "cell_type": "code",
   "execution_count": 75,
   "metadata": {},
   "outputs": [
    {
     "name": "stdout",
     "output_type": "stream",
     "text": [
      "[[ 0.         56.24055476 86.13361713]\n",
      " [56.24055476  0.         63.51377803]\n",
      " [86.13361713 63.51377803  0.        ]]\n",
      "[[ 0.         56.2280234  86.16601532]\n",
      " [56.2280234   0.         63.48089122]\n",
      " [86.16601532 63.48089122  0.        ]]\n",
      "[[ 0.         56.24055476 86.13361713]\n",
      " [56.24055476  0.         63.51377803]\n",
      " [86.13361713 63.51377803  0.        ]]\n",
      "[[-4.05766126e+01  1.60272220e+01  3.13914198e-07]\n",
      " [-4.85520052e+00 -2.74121693e+01  3.13914198e-07]\n",
      " [ 4.54318131e+01  1.13849473e+01  3.13914198e-07]]\n"
     ]
    }
   ],
   "source": [
    "a = np.array([\n",
    "    [1, 2, 63,6],\n",
    "    [4, 5, 7,9],\n",
    "    [56, 10, 10,45]])\n",
    "myView(a,3)"
   ]
  },
  {
   "cell_type": "code",
   "execution_count": null,
   "metadata": {},
   "outputs": [],
   "source": []
  }
 ],
 "metadata": {
  "kernelspec": {
   "display_name": "tensorflow",
   "language": "python",
   "name": "tensorflow"
  },
  "language_info": {
   "codemirror_mode": {
    "name": "ipython",
    "version": 3
   },
   "file_extension": ".py",
   "mimetype": "text/x-python",
   "name": "python",
   "nbconvert_exporter": "python",
   "pygments_lexer": "ipython3",
   "version": "3.6.10"
  }
 },
 "nbformat": 4,
 "nbformat_minor": 2
}
