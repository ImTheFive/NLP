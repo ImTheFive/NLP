{
 "cells": [
  {
   "cell_type": "code",
   "execution_count": 1,
   "metadata": {},
   "outputs": [],
   "source": [
    "import warnings\n",
    "import tensorflow as tf"
   ]
  },
  {
   "cell_type": "code",
   "execution_count": 2,
   "metadata": {},
   "outputs": [],
   "source": [
    "import tensorflow.examples.tutorials.mnist.input_data as input_data"
   ]
  },
  {
   "cell_type": "code",
   "execution_count": 4,
   "metadata": {},
   "outputs": [
    {
     "name": "stdout",
     "output_type": "stream",
     "text": [
      "Extracting MNIST_data\\train-images-idx3-ubyte.gz\n",
      "Extracting MNIST_data\\train-labels-idx1-ubyte.gz\n",
      "Extracting MNIST_data\\t10k-images-idx3-ubyte.gz\n",
      "Extracting MNIST_data\\t10k-labels-idx1-ubyte.gz\n"
     ]
    }
   ],
   "source": [
    "mnist = input_data.read_data_sets(\"MNIST_data\", one_hot=True)\n",
    "warnings.filterwarnings(\"ignore\")"
   ]
  },
  {
   "cell_type": "markdown",
   "metadata": {},
   "source": [
    "# 查看数据数量"
   ]
  },
  {
   "cell_type": "code",
   "execution_count": 5,
   "metadata": {},
   "outputs": [
    {
     "name": "stdout",
     "output_type": "stream",
     "text": [
      "训练集train数量： 55000 ,验证集 validation 数量： 5000 ,测试集 test 数量： 10000\n"
     ]
    }
   ],
   "source": [
    "print('训练集train数量：',mnist.train.num_examples,\n",
    "     ',验证集 validation 数量：',mnist.validation.num_examples,\n",
    "     ',测试集 test 数量：',mnist.test.num_examples)"
   ]
  },
  {
   "cell_type": "markdown",
   "metadata": {},
   "source": [
    "# 查看数据格式"
   ]
  },
  {
   "cell_type": "code",
   "execution_count": 6,
   "metadata": {},
   "outputs": [
    {
     "name": "stdout",
     "output_type": "stream",
     "text": [
      "train images shape:  (55000, 784) labels shape:  (55000, 10)\n"
     ]
    }
   ],
   "source": [
    "print('train images shape: ', mnist.train.images.shape\n",
    "     ,'labels shape: ',mnist.train.labels.shape)"
   ]
  },
  {
   "cell_type": "markdown",
   "metadata": {},
   "source": [
    "# 查看图片"
   ]
  },
  {
   "cell_type": "code",
   "execution_count": 7,
   "metadata": {},
   "outputs": [
    {
     "name": "stdout",
     "output_type": "stream",
     "text": [
      "[[0.         0.         0.         0.         0.         0.\n",
      "  0.         0.         0.         0.         0.         0.\n",
      "  0.         0.         0.         0.         0.         0.\n",
      "  0.         0.         0.         0.         0.         0.\n",
      "  0.         0.         0.         0.        ]\n",
      " [0.         0.         0.         0.         0.         0.\n",
      "  0.         0.         0.         0.         0.         0.\n",
      "  0.         0.         0.         0.         0.         0.\n",
      "  0.         0.         0.         0.         0.         0.\n",
      "  0.         0.         0.         0.        ]\n",
      " [0.         0.         0.         0.         0.         0.\n",
      "  0.         0.         0.         0.         0.         0.\n",
      "  0.         0.         0.         0.         0.         0.\n",
      "  0.         0.         0.         0.         0.         0.\n",
      "  0.         0.         0.         0.        ]\n",
      " [0.         0.         0.         0.         0.         0.\n",
      "  0.         0.         0.         0.         0.         0.\n",
      "  0.         0.         0.         0.         0.         0.\n",
      "  0.         0.         0.         0.         0.         0.\n",
      "  0.         0.         0.         0.        ]\n",
      " [0.         0.         0.         0.         0.         0.\n",
      "  0.         0.         0.         0.         0.         0.\n",
      "  0.         0.         0.         0.         0.         0.\n",
      "  0.         0.         0.         0.         0.         0.\n",
      "  0.         0.         0.         0.        ]\n",
      " [0.         0.         0.         0.         0.         0.\n",
      "  0.         0.         0.         0.         0.         0.\n",
      "  0.         0.         0.         0.         0.         0.\n",
      "  0.         0.         0.         0.         0.         0.\n",
      "  0.         0.         0.         0.        ]\n",
      " [0.         0.         0.         0.         0.         0.\n",
      "  0.         0.         0.         0.         0.         0.\n",
      "  0.         0.         0.         0.         0.         0.\n",
      "  0.         0.         0.         0.         0.         0.\n",
      "  0.         0.         0.         0.        ]\n",
      " [0.         0.         0.         0.         0.         0.\n",
      "  0.         0.         0.         0.         0.         0.3803922\n",
      "  0.37647063 0.3019608  0.46274513 0.2392157  0.         0.\n",
      "  0.         0.         0.         0.         0.         0.\n",
      "  0.         0.         0.         0.        ]\n",
      " [0.         0.         0.         0.3529412  0.5411765  0.9215687\n",
      "  0.9215687  0.9215687  0.9215687  0.9215687  0.9215687  0.9843138\n",
      "  0.9843138  0.9725491  0.9960785  0.9607844  0.9215687  0.74509805\n",
      "  0.08235294 0.         0.         0.         0.         0.\n",
      "  0.         0.         0.         0.        ]\n",
      " [0.         0.         0.54901963 0.9843138  0.9960785  0.9960785\n",
      "  0.9960785  0.9960785  0.9960785  0.9960785  0.9960785  0.9960785\n",
      "  0.9960785  0.9960785  0.9960785  0.9960785  0.9960785  0.9960785\n",
      "  0.7411765  0.09019608 0.         0.         0.         0.\n",
      "  0.         0.         0.         0.        ]\n",
      " [0.         0.         0.8862746  0.9960785  0.81568635 0.7803922\n",
      "  0.7803922  0.7803922  0.7803922  0.54509807 0.2392157  0.2392157\n",
      "  0.2392157  0.2392157  0.2392157  0.5019608  0.8705883  0.9960785\n",
      "  0.9960785  0.7411765  0.08235294 0.         0.         0.\n",
      "  0.         0.         0.         0.        ]\n",
      " [0.         0.         0.14901961 0.32156864 0.0509804  0.\n",
      "  0.         0.         0.         0.         0.         0.\n",
      "  0.         0.         0.         0.         0.13333334 0.8352942\n",
      "  0.9960785  0.9960785  0.45098042 0.         0.         0.\n",
      "  0.         0.         0.         0.        ]\n",
      " [0.         0.         0.         0.         0.         0.\n",
      "  0.         0.         0.         0.         0.         0.\n",
      "  0.         0.         0.         0.         0.         0.32941177\n",
      "  0.9960785  0.9960785  0.9176471  0.         0.         0.\n",
      "  0.         0.         0.         0.        ]\n",
      " [0.         0.         0.         0.         0.         0.\n",
      "  0.         0.         0.         0.         0.         0.\n",
      "  0.         0.         0.         0.         0.         0.32941177\n",
      "  0.9960785  0.9960785  0.9176471  0.         0.         0.\n",
      "  0.         0.         0.         0.        ]\n",
      " [0.         0.         0.         0.         0.         0.\n",
      "  0.         0.         0.         0.         0.         0.\n",
      "  0.         0.         0.         0.         0.4156863  0.6156863\n",
      "  0.9960785  0.9960785  0.95294124 0.20000002 0.         0.\n",
      "  0.         0.         0.         0.        ]\n",
      " [0.         0.         0.         0.         0.         0.\n",
      "  0.         0.         0.         0.         0.         0.09803922\n",
      "  0.45882356 0.8941177  0.8941177  0.8941177  0.9921569  0.9960785\n",
      "  0.9960785  0.9960785  0.9960785  0.94117653 0.         0.\n",
      "  0.         0.         0.         0.        ]\n",
      " [0.         0.         0.         0.         0.         0.\n",
      "  0.         0.         0.         0.26666668 0.4666667  0.86274517\n",
      "  0.9960785  0.9960785  0.9960785  0.9960785  0.9960785  0.9960785\n",
      "  0.9960785  0.9960785  0.9960785  0.5568628  0.         0.\n",
      "  0.         0.         0.         0.        ]\n",
      " [0.         0.         0.         0.         0.         0.\n",
      "  0.         0.14509805 0.73333335 0.9921569  0.9960785  0.9960785\n",
      "  0.9960785  0.8745099  0.8078432  0.8078432  0.29411766 0.26666668\n",
      "  0.8431373  0.9960785  0.9960785  0.45882356 0.         0.\n",
      "  0.         0.         0.         0.        ]\n",
      " [0.         0.         0.         0.         0.         0.\n",
      "  0.4431373  0.8588236  0.9960785  0.9490197  0.89019614 0.45098042\n",
      "  0.34901962 0.12156864 0.         0.         0.         0.\n",
      "  0.7843138  0.9960785  0.9450981  0.16078432 0.         0.\n",
      "  0.         0.         0.         0.        ]\n",
      " [0.         0.         0.         0.         0.         0.\n",
      "  0.6627451  0.9960785  0.6901961  0.24313727 0.         0.\n",
      "  0.         0.         0.         0.         0.         0.18823531\n",
      "  0.9058824  0.9960785  0.9176471  0.         0.         0.\n",
      "  0.         0.         0.         0.        ]\n",
      " [0.         0.         0.         0.         0.         0.\n",
      "  0.07058824 0.48627454 0.         0.         0.         0.\n",
      "  0.         0.         0.         0.         0.         0.32941177\n",
      "  0.9960785  0.9960785  0.6509804  0.         0.         0.\n",
      "  0.         0.         0.         0.        ]\n",
      " [0.         0.         0.         0.         0.         0.\n",
      "  0.         0.         0.         0.         0.         0.\n",
      "  0.         0.         0.         0.         0.         0.54509807\n",
      "  0.9960785  0.9333334  0.22352943 0.         0.         0.\n",
      "  0.         0.         0.         0.        ]\n",
      " [0.         0.         0.         0.         0.         0.\n",
      "  0.         0.         0.         0.         0.         0.\n",
      "  0.         0.         0.         0.         0.8235295  0.9803922\n",
      "  0.9960785  0.65882355 0.         0.         0.         0.\n",
      "  0.         0.         0.         0.        ]\n",
      " [0.         0.         0.         0.         0.         0.\n",
      "  0.         0.         0.         0.         0.         0.\n",
      "  0.         0.         0.         0.         0.9490197  0.9960785\n",
      "  0.93725497 0.22352943 0.         0.         0.         0.\n",
      "  0.         0.         0.         0.        ]\n",
      " [0.         0.         0.         0.         0.         0.\n",
      "  0.         0.         0.         0.         0.         0.\n",
      "  0.         0.         0.         0.34901962 0.9843138  0.9450981\n",
      "  0.3372549  0.         0.         0.         0.         0.\n",
      "  0.         0.         0.         0.        ]\n",
      " [0.         0.         0.         0.         0.         0.\n",
      "  0.         0.         0.         0.         0.         0.\n",
      "  0.         0.         0.01960784 0.8078432  0.96470594 0.6156863\n",
      "  0.         0.         0.         0.         0.         0.\n",
      "  0.         0.         0.         0.        ]\n",
      " [0.         0.         0.         0.         0.         0.\n",
      "  0.         0.         0.         0.         0.         0.\n",
      "  0.         0.         0.01568628 0.45882356 0.27058825 0.\n",
      "  0.         0.         0.         0.         0.         0.\n",
      "  0.         0.         0.         0.        ]\n",
      " [0.         0.         0.         0.         0.         0.\n",
      "  0.         0.         0.         0.         0.         0.\n",
      "  0.         0.         0.         0.         0.         0.\n",
      "  0.         0.         0.         0.         0.         0.\n",
      "  0.         0.         0.         0.        ]]\n"
     ]
    }
   ],
   "source": [
    "#讲一维的像素数据转化为二维的\n",
    "image = mnist.train.images[0].reshape(28,28)\n",
    "print(image)"
   ]
  },
  {
   "cell_type": "code",
   "execution_count": 8,
   "metadata": {},
   "outputs": [],
   "source": [
    "#可视化图片\n",
    "import matplotlib.pyplot as plt\n",
    "\n",
    "def plot_image(image):\n",
    "    plt.imshow(image.reshape(28,28),cmap='binary')\n",
    "    plt.show()"
   ]
  },
  {
   "cell_type": "code",
   "execution_count": 9,
   "metadata": {},
   "outputs": [
    {
     "data": {
      "image/png": "[encoded data removed]",
      "text/plain": [
       "<Figure size 432x288 with 1 Axes>"
      ]
     },
     "metadata": {
      "needs_background": "light"
     },
     "output_type": "display_data"
    }
   ],
   "source": [
    "plot_image(mnist.train.images[3])"
   ]
  },
  {
   "cell_type": "markdown",
   "metadata": {},
   "source": [
    "# 查看标题"
   ]
  },
  {
   "cell_type": "code",
   "execution_count": 10,
   "metadata": {},
   "outputs": [
    {
     "name": "stdout",
     "output_type": "stream",
     "text": [
      "[0. 0. 0. 1. 0. 0. 0. 0. 0. 0.]\n"
     ]
    }
   ],
   "source": [
    "print(mnist.train.labels[1])"
   ]
  },
  {
   "cell_type": "markdown",
   "metadata": {},
   "source": [
    "# 独热编码取值"
   ]
  },
  {
   "cell_type": "code",
   "execution_count": 11,
   "metadata": {},
   "outputs": [
    {
     "data": {
      "text/plain": [
       "6"
      ]
     },
     "execution_count": 11,
     "metadata": {},
     "output_type": "execute_result"
    }
   ],
   "source": [
    "import numpy as np\n",
    "np.argmax(mnist.train.labels[3])"
   ]
  },
  {
   "cell_type": "markdown",
   "metadata": {},
   "source": [
    "# 分类模型构建与训练 "
   ]
  },
  {
   "cell_type": "code",
   "execution_count": 12,
   "metadata": {},
   "outputs": [],
   "source": [
    "#定义待输入数据的占位符\n",
    "#由于是批量训练所以个数不固定，个数为None\n",
    "#mnist 中的每张图片共有28*28=784个像素点\n",
    "x = tf.placeholder(tf.float32, [None, 784], name=\"X\")\n",
    "\n",
    "# 0-9 一共10个数字=> 10 个类别\n",
    "y = tf.placeholder(tf.float32, [None, 10], name=\"Y\")"
   ]
  },
  {
   "cell_type": "code",
   "execution_count": 13,
   "metadata": {},
   "outputs": [],
   "source": [
    "#定义全连接层函数\n",
    "\n",
    "def fcn_layer(inputs,           # 输入数据\n",
    "               input_dim,        # 输入神经元数量\n",
    "               output_dim,       # 输出神经元数量\n",
    "               activation=None):  # 激活函数\n",
    "    # 以截断正态分布的随机数初始化W\n",
    "    W = tf.Variable(tf.random_normal([input_dim, output_dim]))\n",
    "\n",
    "    # 以0初始化b\n",
    "    b = tf.Variable(tf.zeros([output_dim]))\n",
    "    \n",
    "    # 前置计算\n",
    "    XWb = tf.matmul(inputs, W) + b\n",
    "    \n",
    "    if activation is None:\n",
    "        outputs = XWb\n",
    "    else:\n",
    "        outputs = activation(XWb)\n",
    "    \n",
    "    return outputs"
   ]
  },
  {
   "cell_type": "markdown",
   "metadata": {},
   "source": [
    "# 构建第一个隐藏层"
   ]
  },
  {
   "cell_type": "code",
   "execution_count": 17,
   "metadata": {},
   "outputs": [],
   "source": [
    "h1 = fcn_layer(inputs=x,\n",
    "               input_dim=784,\n",
    "               output_dim=2000,\n",
    "               activation=tf.nn.relu)"
   ]
  },
  {
   "cell_type": "markdown",
   "metadata": {},
   "source": [
    "# 构建第二个隐藏层"
   ]
  },
  {
   "cell_type": "code",
   "execution_count": 18,
   "metadata": {},
   "outputs": [],
   "source": [
    "h2 = fcn_layer(inputs=h1,\n",
    "               input_dim=2000,\n",
    "               output_dim=1000,\n",
    "               activation=tf.nn.relu)"
   ]
  },
  {
   "cell_type": "markdown",
   "metadata": {},
   "source": [
    "# 构建输出层"
   ]
  },
  {
   "cell_type": "code",
   "execution_count": 19,
   "metadata": {},
   "outputs": [],
   "source": [
    "forword = fcn_layer(inputs=h2,\n",
    "               input_dim=1000,\n",
    "               output_dim=10,\n",
    "               activation=None)"
   ]
  },
  {
   "cell_type": "markdown",
   "metadata": {},
   "source": [
    "# 设置训练参数"
   ]
  },
  {
   "cell_type": "code",
   "execution_count": 20,
   "metadata": {},
   "outputs": [],
   "source": [
    "#设置训练参数\n",
    "train_epochs = 40 #训练轮数\n",
    "batch_size = 50 #单次训练样本数（批次大小）\n",
    "total_batch = int(mnist.train.num_examples/batch_size) # 一轮训练有多少批次\n",
    "display_step = 1 #显示粒度\n",
    "learning_rate = 0.01 #学习率"
   ]
  },
  {
   "cell_type": "markdown",
   "metadata": {},
   "source": [
    "# 定义损失函数"
   ]
  },
  {
   "cell_type": "code",
   "execution_count": 21,
   "metadata": {},
   "outputs": [],
   "source": [
    "#定义交叉熵损失函数\n",
    "\n",
    "pred = tf.nn.softmax(forword)\n",
    "\n",
    "loss_function = tf.reduce_mean(\n",
    "            tf.nn.softmax_cross_entropy_with_logits_v2(logits=forword,labels=y))"
   ]
  },
  {
   "cell_type": "code",
   "execution_count": 22,
   "metadata": {},
   "outputs": [],
   "source": [
    "#梯度下降优化器\n",
    "\n",
    "optimizer  = tf.train.AdamOptimizer(learning_rate).minimize(loss_function)"
   ]
  },
  {
   "cell_type": "code",
   "execution_count": 23,
   "metadata": {},
   "outputs": [],
   "source": [
    "#检查预测类别\n",
    "\n",
    "correct_prediction = tf.equal(tf.argmax(pred, 1),tf.argmax(y, 1))"
   ]
  },
  {
   "cell_type": "code",
   "execution_count": 24,
   "metadata": {},
   "outputs": [],
   "source": [
    "#准确率，讲布尔值转化为浮点数，计算平均值\n",
    "\n",
    "accuracy = tf.reduce_mean(tf.cast(correct_prediction, tf.float32))"
   ]
  },
  {
   "cell_type": "code",
   "execution_count": 25,
   "metadata": {},
   "outputs": [],
   "source": [
    "sess = tf.Session() #声明会话\n",
    "init = tf.global_variables_initializer() #初始化变量\n",
    "sess.run(init)"
   ]
  },
  {
   "cell_type": "markdown",
   "metadata": {},
   "source": [
    "# 模型训练"
   ]
  },
  {
   "cell_type": "code",
   "execution_count": 26,
   "metadata": {},
   "outputs": [
    {
     "name": "stdout",
     "output_type": "stream",
     "text": [
      "Train Epoch: 1 loss= 36.021046  Accuracy= 0.9486\n",
      "Train Epoch: 2 loss= 23.558372  Accuracy= 0.9574\n",
      "Train Epoch: 3 loss= 22.23655  Accuracy= 0.9584\n",
      "Train Epoch: 4 loss= 19.009363  Accuracy= 0.9464\n",
      "Train Epoch: 5 loss= 14.235599  Accuracy= 0.9594\n",
      "Train Epoch: 6 loss= 10.014836  Accuracy= 0.9658\n",
      "Train Epoch: 7 loss= 6.229563  Accuracy= 0.9396\n",
      "Train Epoch: 8 loss= 1.5214907  Accuracy= 0.8942\n",
      "Train Epoch: 9 loss= 1.1780831  Accuracy= 0.8596\n",
      "Train Epoch: 10 loss= 1.1508831  Accuracy= 0.8542\n",
      "Train Epoch: 11 loss= 1.2411664  Accuracy= 0.7952\n",
      "Train Epoch: 12 loss= 0.8245883  Accuracy= 0.8684\n",
      "Train Epoch: 13 loss= 0.6013873  Accuracy= 0.8368\n",
      "Train Epoch: 14 loss= 0.6157908  Accuracy= 0.861\n",
      "Train Epoch: 15 loss= 0.6207845  Accuracy= 0.8218\n",
      "Train Epoch: 16 loss= 0.76317877  Accuracy= 0.837\n",
      "Train Epoch: 17 loss= 0.8423877  Accuracy= 0.7942\n",
      "Train Epoch: 18 loss= 0.8867818  Accuracy= 0.834\n",
      "Train Epoch: 19 loss= 0.82123613  Accuracy= 0.8388\n",
      "Train Epoch: 20 loss= 0.8497919  Accuracy= 0.81\n",
      "Train Epoch: 21 loss= 0.70483166  Accuracy= 0.7724\n",
      "Train Epoch: 22 loss= 1.4548208  Accuracy= 0.793\n",
      "Train Epoch: 23 loss= 0.69659734  Accuracy= 0.7972\n",
      "Train Epoch: 24 loss= 1.2572428  Accuracy= 0.8018\n",
      "Train Epoch: 25 loss= 0.963594  Accuracy= 0.7528\n",
      "Train Epoch: 26 loss= 0.75294536  Accuracy= 0.8134\n",
      "Train Epoch: 27 loss= 1.0971892  Accuracy= 0.7852\n",
      "Train Epoch: 28 loss= 0.8947998  Accuracy= 0.7572\n",
      "Train Epoch: 29 loss= 0.83495647  Accuracy= 0.7796\n",
      "Train Epoch: 30 loss= 1.5801114  Accuracy= 0.8456\n",
      "Train Epoch: 31 loss= 1.191238  Accuracy= 0.8142\n",
      "Train Epoch: 32 loss= 2.2963014  Accuracy= 0.8466\n",
      "Train Epoch: 33 loss= 0.9193935  Accuracy= 0.8092\n",
      "Train Epoch: 34 loss= 1.6907574  Accuracy= 0.7956\n",
      "Train Epoch: 35 loss= 0.9331133  Accuracy= 0.7478\n",
      "Train Epoch: 36 loss= 0.7839874  Accuracy= 0.731\n",
      "Train Epoch: 37 loss= 1.1718279  Accuracy= 0.7998\n",
      "Train Epoch: 38 loss= 1.1957104  Accuracy= 0.791\n",
      "Train Epoch: 39 loss= 1.2422029  Accuracy= 0.7958\n",
      "Train Epoch: 40 loss= 1.0860177  Accuracy= 0.805\n",
      "Train Finished!\n"
     ]
    }
   ],
   "source": [
    "#开始训练\n",
    "for epoch in range(train_epochs ):\n",
    "    for batch in range(total_batch):\n",
    "        xs, ys = mnist.train.next_batch(batch_size)#读取批次数据\n",
    "        sess.run(optimizer, feed_dict={x:xs,y:ys}) #执行批次训练\n",
    "    #total_batch个批次训练完成后，使用验证数据计算误差与准确率；验证集没有分批\n",
    "    loss,acc = sess.run([loss_function,accuracy],\n",
    "                       feed_dict={x:mnist.validation.images,y:mnist.validation.labels})\n",
    "    #打印训练过程中的详细信息\n",
    "    if (epoch+1) % display_step == 0:\n",
    "       print(\"Train Epoch:\", epoch+1, \"loss=\", loss,\" Accuracy=\",acc)\n",
    "        \n",
    "print(\"Train Finished!\")"
   ]
  },
  {
   "cell_type": "markdown",
   "metadata": {},
   "source": [
    "# 完成训练后，在测试集上的评估模型的准确率"
   ]
  },
  {
   "cell_type": "code",
   "execution_count": 30,
   "metadata": {},
   "outputs": [
    {
     "name": "stdout",
     "output_type": "stream",
     "text": [
      "Test Accuracy： 0.8005\n"
     ]
    }
   ],
   "source": [
    "accu_test, tt = sess.run([accuracy,correct_prediction],\n",
    "                     feed_dict={x:mnist.test.images, y: mnist.test.labels})\n",
    "print(\"Test Accuracy：\",accu_test)"
   ]
  },
  {
   "cell_type": "code",
   "execution_count": 28,
   "metadata": {},
   "outputs": [
    {
     "name": "stdout",
     "output_type": "stream",
     "text": [
      "40\n"
     ]
    }
   ],
   "source": [
    "print(len(tt))"
   ]
  },
  {
   "cell_type": "code",
   "execution_count": 29,
   "metadata": {},
   "outputs": [
    {
     "name": "stdout",
     "output_type": "stream",
     "text": [
      "labels: 2 prediction: 8\n"
     ]
    },
    {
     "data": {
      "image/png": "[encoded data removed]",
      "text/plain": [
       "<Figure size 432x288 with 1 Axes>"
      ]
     },
     "metadata": {
      "needs_background": "light"
     },
     "output_type": "display_data"
    },
    {
     "name": "stdout",
     "output_type": "stream",
     "text": [
      "labels: 5 prediction: 8\n"
     ]
    },
    {
     "data": {
      "image/png": "[encoded data removed]",
      "text/plain": [
       "<Figure size 432x288 with 1 Axes>"
      ]
     },
     "metadata": {
      "needs_background": "light"
     },
     "output_type": "display_data"
    },
    {
     "name": "stdout",
     "output_type": "stream",
     "text": [
      "labels: 6 prediction: 8\n"
     ]
    },
    {
     "data": {
      "image/png": "[encoded data removed]",
      "text/plain": [
       "<Figure size 432x288 with 1 Axes>"
      ]
     },
     "metadata": {
      "needs_background": "light"
     },
     "output_type": "display_data"
    },
    {
     "name": "stdout",
     "output_type": "stream",
     "text": [
      "labels: 5 prediction: 8\n"
     ]
    },
    {
     "data": {
      "image/png": "[encoded data removed]",
      "text/plain": [
       "<Figure size 432x288 with 1 Axes>"
      ]
     },
     "metadata": {
      "needs_background": "light"
     },
     "output_type": "display_data"
    },
    {
     "name": "stdout",
     "output_type": "stream",
     "text": [
      "labels: 3 prediction: 8\n"
     ]
    },
    {
     "data": {
      "image/png": "[encoded data removed]",
      "text/plain": [
       "<Figure size 432x288 with 1 Axes>"
      ]
     },
     "metadata": {
      "needs_background": "light"
     },
     "output_type": "display_data"
    },
    {
     "name": "stdout",
     "output_type": "stream",
     "text": [
      "labels: 4 prediction: 8\n"
     ]
    },
    {
     "data": {
      "image/png": "[encoded data removed]",
      "text/plain": [
       "<Figure size 432x288 with 1 Axes>"
      ]
     },
     "metadata": {
      "needs_background": "light"
     },
     "output_type": "display_data"
    },
    {
     "name": "stdout",
     "output_type": "stream",
     "text": [
      "labels: 0 prediction: 8\n"
     ]
    },
    {
     "data": {
      "image/png": "[encoded data removed]",
      "text/plain": [
       "<Figure size 432x288 with 1 Axes>"
      ]
     },
     "metadata": {
      "needs_background": "light"
     },
     "output_type": "display_data"
    },
    {
     "name": "stdout",
     "output_type": "stream",
     "text": [
      "labels: 4 prediction: 8\n"
     ]
    },
    {
     "data": {
      "image/png": "[encoded data removed]",
      "text/plain": [
       "<Figure size 432x288 with 1 Axes>"
      ]
     },
     "metadata": {
      "needs_background": "light"
     },
     "output_type": "display_data"
    }
   ],
   "source": [
    "for i in range(len(tt)):\n",
    "    if not(tt[i]):\n",
    "        temp = sess.run(tf.argmax(pred,1),feed_dict={x:mnist.test.images[i].reshape(1,784)})\n",
    "        print(\"labels:\",sess.run(tf.argmax(mnist.test.labels[i])),\"prediction:\",temp[0])\n",
    "        plot_image(mnist.test.images[i])"
   ]
  },
  {
   "cell_type": "code",
   "execution_count": null,
   "metadata": {},
   "outputs": [],
   "source": []
  }
 ],
 "metadata": {
  "kernelspec": {
   "display_name": "tensorflow",
   "language": "python",
   "name": "tensorflow"
  },
  "language_info": {
   "codemirror_mode": {
    "name": "ipython",
    "version": 3
   },
   "file_extension": ".py",
   "mimetype": "text/x-python",
   "name": "python",
   "nbconvert_exporter": "python",
   "pygments_lexer": "ipython3",
   "version": "3.6.10"
  }
 },
 "nbformat": 4,
 "nbformat_minor": 2
}
